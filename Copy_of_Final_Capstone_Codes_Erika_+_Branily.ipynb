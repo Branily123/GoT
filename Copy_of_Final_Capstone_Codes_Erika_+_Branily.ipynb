{
  "nbformat": 4,
  "nbformat_minor": 0,
  "metadata": {
    "colab": {
      "name": "Copy of Final Capstone Codes Erika + Branily",
      "provenance": [],
      "collapsed_sections": [],
      "authorship_tag": "ABX9TyOtgyyFGqqEYwETvl2cm64k",
      "include_colab_link": true
    },
    "kernelspec": {
      "name": "python3",
      "display_name": "Python 3"
    }
  },
  "cells": [
    {
      "cell_type": "markdown",
      "metadata": {
        "id": "view-in-github",
        "colab_type": "text"
      },
      "source": [
        "<a href=\"https://colab.research.google.com/github/Branily123/GoT/blob/master/Copy_of_Final_Capstone_Codes_Erika_%2B_Branily.ipynb\" target=\"_parent\"><img src=\"https://colab.research.google.com/assets/colab-badge.svg\" alt=\"Open In Colab\"/></a>"
      ]
    },
    {
      "cell_type": "code",
      "metadata": {
        "id": "5DH8vIentWSJ",
        "colab_type": "code",
        "colab": {
          "base_uri": "https://localhost:8080/",
          "height": 221
        },
        "outputId": "6621d32f-fd7f-4a42-f821-621db8145c4b"
      },
      "source": [
        "#top 10 violations and the amount given throughtout the years#\n",
        "import pandas as pd\n",
        "import numpy as np\n",
        "df = pd.read_csv('https://www.dropbox.com/s/w3zp2pl8rlx12xe/DOHMH_New_York_City_Restaurant_Inspection_Results%20%283%29.csv?dl=1')\n",
        "df\n",
        "df.groupby(['VIOLATION CODE'])['VIOLATION DESCRIPTION'].count().sort_values(ascending= False).head(10)"
      ],
      "execution_count": null,
      "outputs": [
        {
          "output_type": "execute_result",
          "data": {
            "text/plain": [
              "VIOLATION CODE\n",
              "10F    57136\n",
              "08A    44318\n",
              "04L    29783\n",
              "06D    27384\n",
              "06C    24203\n",
              "10B    23353\n",
              "02G    22923\n",
              "04N    20944\n",
              "02B    20426\n",
              "04M     8819\n",
              "Name: VIOLATION DESCRIPTION, dtype: int64"
            ]
          },
          "metadata": {
            "tags": []
          },
          "execution_count": 2
        }
      ]
    },
    {
      "cell_type": "code",
      "metadata": {
        "id": "Dqee1tJe0olz",
        "colab_type": "code",
        "colab": {
          "base_uri": "https://localhost:8080/",
          "height": 204
        },
        "outputId": "91b03611-8552-46f3-c061-3f3987bf2f3e"
      },
      "source": [
        "#top 10 violations and the amount given throughtout the years#\n",
        "pd.value_counts(df['VIOLATION CODE']).sort_values(ascending= False).head(10)"
      ],
      "execution_count": null,
      "outputs": [
        {
          "output_type": "execute_result",
          "data": {
            "text/plain": [
              "10F    57136\n",
              "08A    44318\n",
              "04L    29783\n",
              "06D    27384\n",
              "06C    24203\n",
              "10B    23353\n",
              "02G    22923\n",
              "04N    20944\n",
              "02B    20426\n",
              "04M     8819\n",
              "Name: VIOLATION CODE, dtype: int64"
            ]
          },
          "metadata": {
            "tags": []
          },
          "execution_count": 15
        }
      ]
    },
    {
      "cell_type": "code",
      "metadata": {
        "id": "z79ZjpsmyXvV",
        "colab_type": "code",
        "colab": {
          "base_uri": "https://localhost:8080/",
          "height": 241
        },
        "outputId": "645be0a6-5ba3-4c5e-e628-b4ec1f667459"
      },
      "source": [
        "#top 10 violations description given throughtout the years#\n",
        "import pandas as pd\n",
        "import numpy as np\n",
        "df = pd.read_csv('https://www.dropbox.com/s/w3zp2pl8rlx12xe/DOHMH_New_York_City_Restaurant_Inspection_Results%20%283%29.csv?dl=1')\n",
        "df\n",
        "df.groupby(['VIOLATION DESCRIPTION'])['VIOLATION CODE'].count().sort_values(ascending= False).head(10)"
      ],
      "execution_count": null,
      "outputs": [
        {
          "output_type": "execute_result",
          "data": {
            "text/plain": [
              "VIOLATION DESCRIPTION\n",
              "Non-food contact surface improperly constructed. Unacceptable material used. Non-food contact surface or equipment improperly maintained and/or not properly sealed, raised, spaced or movable to allow accessibility for cleaning on all sides, above and underneath the unit.                      57136\n",
              "Facility not vermin proof. Harborage or conditions conducive to attracting vermin to the premises and/or allowing vermin to exist.                                                                                                                                                                   44318\n",
              "Evidence of mice or live mice present in facility's food and/or non-food areas.                                                                                                                                                                                                                      29783\n",
              "Food contact surface not properly washed, rinsed and sanitized after each use and following any activity when contamination may have occurred.                                                                                                                                                       27384\n",
              "Food not protected from potential source of contamination during storage, preparation, transportation, display or service.                                                                                                                                                                           24203\n",
              "Plumbing not properly installed or maintained; anti-siphonage or backflow prevention device not provided where required; equipment or floor not properly drained; sewage disposal system in disrepair or not functioning properly.                                                                   23353\n",
              "Cold food item held above 41º F (smoked fish and reduced oxygen packaged foods above 38 ºF) except during necessary preparation.                                                                                                                                                                     22923\n",
              "Filth flies or food/refuse/sewage-associated (FRSA) flies present in facility’s food and/or non-food areas. Filth flies include house flies, little house flies, blow flies, bottle flies and flesh flies. Food/refuse/sewage-associated flies include fruit flies, drain flies and Phorid flies.    20944\n",
              "Hot food item not held at or above 140º F.                                                                                                                                                                                                                                                           20426\n",
              "Live roaches present in facility's food and/or non-food areas.                                                                                                                                                                                                                                        8819\n",
              "Name: VIOLATION CODE, dtype: int64"
            ]
          },
          "metadata": {
            "tags": []
          },
          "execution_count": 4
        }
      ]
    },
    {
      "cell_type": "code",
      "metadata": {
        "id": "293YnimrwiQP",
        "colab_type": "code",
        "colab": {
          "base_uri": "https://localhost:8080/",
          "height": 153
        },
        "outputId": "08f9d956-eb0a-4e34-8b49-7e1c544595b7"
      },
      "source": [
        "import pandas as pd\n",
        "import numpy as np\n",
        "df = pd.read_csv('https://www.dropbox.com/s/w3zp2pl8rlx12xe/DOHMH_New_York_City_Restaurant_Inspection_Results%20%283%29.csv?dl=1')\n",
        "df\n",
        "df.groupby(['BORO'])['VIOLATION CODE'].count().sort_values(ascending= False)\n",
        "\n",
        "#boro resaurants by violation#"
      ],
      "execution_count": null,
      "outputs": [
        {
          "output_type": "execute_result",
          "data": {
            "text/plain": [
              "BORO\n",
              "Manhattan        155270\n",
              "Brooklyn          99894\n",
              "Queens            89472\n",
              "Bronx             35628\n",
              "Staten Island     13185\n",
              "0                   224\n",
              "Name: VIOLATION CODE, dtype: int64"
            ]
          },
          "metadata": {
            "tags": []
          },
          "execution_count": 19
        }
      ]
    },
    {
      "cell_type": "code",
      "metadata": {
        "id": "QSvzkgOrw6Ut",
        "colab_type": "code",
        "colab": {
          "base_uri": "https://localhost:8080/",
          "height": 238
        },
        "outputId": "bb05decb-ce83-4e61-fdf8-1cfb3d65e531"
      },
      "source": [
        "df.groupby(['VIOLATION CODE'])['BORO'].count().sort_values()\n",
        "#list of violations given throughout NYC by amount#"
      ],
      "execution_count": null,
      "outputs": [
        {
          "output_type": "execute_result",
          "data": {
            "text/plain": [
              "VIOLATION CODE\n",
              "17A1        1\n",
              "15G7        1\n",
              "17A3        1\n",
              "19A1        1\n",
              "02J         1\n",
              "        ...  \n",
              "06C     24203\n",
              "06D     27384\n",
              "04L     29783\n",
              "08A     44318\n",
              "10F     57136\n",
              "Name: BORO, Length: 104, dtype: int64"
            ]
          },
          "metadata": {
            "tags": []
          },
          "execution_count": 9
        }
      ]
    },
    {
      "cell_type": "code",
      "metadata": {
        "id": "oPdSn8b6ygZ6",
        "colab_type": "code",
        "colab": {}
      },
      "source": [
        "df.groupby('VIOLATION DESCRIPTION').count().sort_values\n",
        "#total violations descriptions given throughout NYC #"
      ],
      "execution_count": null,
      "outputs": []
    },
    {
      "cell_type": "code",
      "metadata": {
        "id": "2BInKs7yzbAB",
        "colab_type": "code",
        "colab": {}
      },
      "source": [
        "pd.value_counts(df['VIOLATION DESCRIPTION']).sort_values(ascending= False).head(10)"
      ],
      "execution_count": null,
      "outputs": []
    },
    {
      "cell_type": "code",
      "metadata": {
        "id": "yDjdEz5H2-Bo",
        "colab_type": "code",
        "colab": {
          "base_uri": "https://localhost:8080/",
          "height": 136
        },
        "outputId": "f8464ca8-ecc8-4e40-d422-1427af4a7c58"
      },
      "source": [
        "pd.value_counts(df['BORO'])\n",
        "#how many resturants in nyc got violations#"
      ],
      "execution_count": null,
      "outputs": [
        {
          "output_type": "execute_result",
          "data": {
            "text/plain": [
              "Manhattan        157611\n",
              "Brooklyn         101791\n",
              "Queens            90914\n",
              "Bronx             36160\n",
              "Staten Island     13360\n",
              "0                   233\n",
              "Name: BORO, dtype: int64"
            ]
          },
          "metadata": {
            "tags": []
          },
          "execution_count": 28
        }
      ]
    },
    {
      "cell_type": "code",
      "metadata": {
        "id": "pNlVtAbLxm2U",
        "colab_type": "code",
        "colab": {}
      },
      "source": [
        "df.GRADE.fillna('No Grade', inplace=True)\n",
        "df[\"GRADE DATE\"].fillna('No Grade Date', inplace=True)\n",
        "df[\"VIOLATION CODE\" ].fillna('NO VIOLATION CODE' , inplace=True)\n",
        "df[\"VIOLATION DESCRIPTION\"].fillna('NO VIOLATION DESCRIPTION', inplace=True)\n",
        "df[\"INSPECTION TYPE\"].fillna('NO INSPECTION TYPE' , inplace=True)\n",
        "df[\"SCORE\"].fillna('NO SCORE' , inplace=True)\n",
        "#removed null values#"
      ],
      "execution_count": null,
      "outputs": []
    },
    {
      "cell_type": "code",
      "metadata": {
        "id": "Cc5XnIDh4e75",
        "colab_type": "code",
        "colab": {
          "base_uri": "https://localhost:8080/",
          "height": 153
        },
        "outputId": "d4afaf52-fb89-437e-9caf-be8aa9870478"
      },
      "source": [
        "df.groupby(['BORO'])['VIOLATION CODE'].count().sort_values(ascending= False)\n",
        "##how many resturants in nyc got violations##"
      ],
      "execution_count": null,
      "outputs": [
        {
          "output_type": "execute_result",
          "data": {
            "text/plain": [
              "BORO\n",
              "Manhattan        155270\n",
              "Brooklyn          99894\n",
              "Queens            89472\n",
              "Bronx             35628\n",
              "Staten Island     13185\n",
              "0                   224\n",
              "Name: VIOLATION CODE, dtype: int64"
            ]
          },
          "metadata": {
            "tags": []
          },
          "execution_count": 18
        }
      ]
    },
    {
      "cell_type": "code",
      "metadata": {
        "id": "e1VepD_x5tI2",
        "colab_type": "code",
        "colab": {}
      },
      "source": [
        "df.groupby(['BORO'])['SCORE'].count().sort_values(ascending= False)"
      ],
      "execution_count": null,
      "outputs": []
    },
    {
      "cell_type": "code",
      "metadata": {
        "id": "kfLPdGIR5_9m",
        "colab_type": "code",
        "colab": {}
      },
      "source": [
        "df['VIOLATION CODE'].unique()\n",
        "#the different amount of codes#"
      ],
      "execution_count": null,
      "outputs": []
    },
    {
      "cell_type": "code",
      "metadata": {
        "id": "NwW6fNrP6JTK",
        "colab_type": "code",
        "colab": {}
      },
      "source": [
        "df['VIOLATION DESCRIPTION'].unique()\n",
        "#different amount of descriptions#"
      ],
      "execution_count": null,
      "outputs": []
    },
    {
      "cell_type": "code",
      "metadata": {
        "id": "dzbIqi286SF2",
        "colab_type": "code",
        "colab": {
          "base_uri": "https://localhost:8080/",
          "height": 275
        },
        "outputId": "27dd092b-7619-4732-c1f8-a2e7454ae5ee"
      },
      "source": [
        "import pandas as pd\n",
        "import numpy as np\n",
        "df = pd.read_csv('https://www.dropbox.com/s/w3zp2pl8rlx12xe/DOHMH_New_York_City_Restaurant_Inspection_Results%20%283%29.csv?dl=1')\n",
        "df\n",
        "df.count"
      ],
      "execution_count": null,
      "outputs": [
        {
          "output_type": "execute_result",
          "data": {
            "text/plain": [
              "<bound method DataFrame.count of            CAMIS                                 DBA  ...           BBL   NTA\n",
              "0       50056993                          CIVIC DELI  ...  1.001700e+09  MN24\n",
              "1       41265425                 CHILI'S GRILL & BAR  ...  4.038100e+09  QN19\n",
              "2       40993786                             DUNKIN'  ...  5.046450e+09  SI54\n",
              "3       41636935   DOUBLE DELIGHT CHINESE RESTAURANT  ...  3.062590e+09  BK28\n",
              "4       41638021          SHANGHAI HEPING RESTAURANT  ...  1.002040e+09  MN24\n",
              "...          ...                                 ...  ...           ...   ...\n",
              "400064  50055559                  JUICES FOR LIFE BK  ...  3.016720e+09  BK35\n",
              "400065  50097930  MARTHITA'S COFFEE SHOP BAR & GRILL  ...  3.032630e+09  BK78\n",
              "400066  50009471                         SHAKE SHACK  ...  3.009280e+09  BK37\n",
              "400067  50015990                             PIL PIL  ...  1.014330e+09  MN31\n",
              "400068  41687478                  BETTER HEALTH CLUB  ...  2.028310e+09  BX14\n",
              "\n",
              "[400069 rows x 26 columns]>"
            ]
          },
          "metadata": {
            "tags": []
          },
          "execution_count": 2
        }
      ]
    },
    {
      "cell_type": "code",
      "metadata": {
        "id": "RjWhNXEXmcqB",
        "colab_type": "code",
        "colab": {
          "base_uri": "https://localhost:8080/",
          "height": 136
        },
        "outputId": "08668591-f8e8-4d1d-bf6f-d771360b13fc"
      },
      "source": [
        "#Total violations issued per borough#\n",
        "import pandas as pd\n",
        "import numpy as np\n",
        "df = pd.read_csv('https://www.dropbox.com/s/ta1ss5vg690v5m9/DOHMH_New_York_City_Restaurant_Inspection_Results.csv?dl=1')\n",
        "pd.value_counts(df['BORO'])."
      ],
      "execution_count": null,
      "outputs": [
        {
          "output_type": "execute_result",
          "data": {
            "text/plain": [
              "Manhattan        157611\n",
              "Brooklyn         101791\n",
              "Queens            90914\n",
              "Bronx             36160\n",
              "Staten Island     13360\n",
              "0                   233\n",
              "Name: BORO, dtype: int64"
            ]
          },
          "metadata": {
            "tags": []
          },
          "execution_count": 10
        }
      ]
    },
    {
      "cell_type": "code",
      "metadata": {
        "id": "2wHgPgtAp1Y6",
        "colab_type": "code",
        "colab": {}
      },
      "source": [
        "import pandas as pd\n",
        "import numpy as np\n",
        "df = pd.read_csv('https://www.dropbox.com/s/ta1ss5vg690v5m9/DOHMH_New_York_City_Restaurant_Inspection_Results.csv?dl=1')\n",
        "df\n",
        "df.groupby(['VIOLATION CODE'])['BORO'].count().sort_values(ascending= False).head(10)\n"
      ],
      "execution_count": null,
      "outputs": []
    },
    {
      "cell_type": "code",
      "metadata": {
        "id": "BY96c-7frEsj",
        "colab_type": "code",
        "colab": {
          "base_uri": "https://localhost:8080/",
          "height": 204
        },
        "outputId": "ea0e44f1-a3fe-4640-d290-b86062ae4929"
      },
      "source": [
        "import pandas as pd\n",
        "import numpy as np\n",
        "df = pd.read_csv('https://www.dropbox.com/s/ta1ss5vg690v5m9/DOHMH_New_York_City_Restaurant_Inspection_Results.csv?dl=1')\n",
        "df['VIOLATION CODE'].value_counts()\n",
        "df.loc[df['BORO'] == 'Manhattan', 'VIOLATION CODE'].value_counts().sort_values(ascending=False).head(10)\n",
        "#top 10 violation code given to MH#"
      ],
      "execution_count": null,
      "outputs": [
        {
          "output_type": "execute_result",
          "data": {
            "text/plain": [
              "10F    22397\n",
              "08A    17267\n",
              "06D    11878\n",
              "04L    10966\n",
              "10B     9881\n",
              "06C     9669\n",
              "02G     9661\n",
              "04N     8932\n",
              "02B     7351\n",
              "04H     3659\n",
              "Name: VIOLATION CODE, dtype: int64"
            ]
          },
          "metadata": {
            "tags": []
          },
          "execution_count": 41
        }
      ]
    },
    {
      "cell_type": "code",
      "metadata": {
        "id": "Vr92mIeDs5zK",
        "colab_type": "code",
        "colab": {
          "base_uri": "https://localhost:8080/",
          "height": 204
        },
        "outputId": "785431ba-fde7-4c0c-96c7-c658a78c1d48"
      },
      "source": [
        "import pandas as pd\n",
        "import numpy as np\n",
        "df = pd.read_csv('https://www.dropbox.com/s/ta1ss5vg690v5m9/DOHMH_New_York_City_Restaurant_Inspection_Results.csv?dl=1')\n",
        "df['VIOLATION CODE'].value_counts()\n",
        "df.loc[df['BORO'] == 'Bronx', 'VIOLATION CODE'].value_counts().sort_values(ascending=False).head(10)\n",
        "#top 10 violation code given to BX#"
      ],
      "execution_count": null,
      "outputs": [
        {
          "output_type": "execute_result",
          "data": {
            "text/plain": [
              "10F    5133\n",
              "08A    4638\n",
              "04L    3064\n",
              "02B    2276\n",
              "10B    2150\n",
              "04N    2105\n",
              "06D    1963\n",
              "06C    1917\n",
              "02G    1854\n",
              "04M    1036\n",
              "Name: VIOLATION CODE, dtype: int64"
            ]
          },
          "metadata": {
            "tags": []
          },
          "execution_count": 24
        }
      ]
    },
    {
      "cell_type": "code",
      "metadata": {
        "id": "haG_igjZvwVU",
        "colab_type": "code",
        "colab": {
          "base_uri": "https://localhost:8080/",
          "height": 204
        },
        "outputId": "ae22c8f5-30cf-4202-a01a-157a3ad4963b"
      },
      "source": [
        "import pandas as pd\n",
        "import numpy as np\n",
        "df = pd.read_csv('https://www.dropbox.com/s/ta1ss5vg690v5m9/DOHMH_New_York_City_Restaurant_Inspection_Results.csv?dl=1')\n",
        "df['VIOLATION CODE'].value_counts()\n",
        "df.loc[df['BORO'] == 'Queens', 'VIOLATION CODE'].value_counts().sort_values(ascending=False).head(10)\n",
        "#top 10 violation code given to QN#"
      ],
      "execution_count": null,
      "outputs": [
        {
          "output_type": "execute_result",
          "data": {
            "text/plain": [
              "10F    12995\n",
              "08A     9681\n",
              "04L     6800\n",
              "06D     5913\n",
              "06C     5736\n",
              "02G     4971\n",
              "10B     4897\n",
              "02B     4824\n",
              "04N     4335\n",
              "04M     2168\n",
              "Name: VIOLATION CODE, dtype: int64"
            ]
          },
          "metadata": {
            "tags": []
          },
          "execution_count": 25
        }
      ]
    },
    {
      "cell_type": "code",
      "metadata": {
        "id": "fTvPcXCpwWJ0",
        "colab_type": "code",
        "colab": {
          "base_uri": "https://localhost:8080/",
          "height": 204
        },
        "outputId": "2d0a5995-68e3-4ec0-edc7-d8c5d03491b5"
      },
      "source": [
        "import pandas as pd\n",
        "import numpy as np\n",
        "df = pd.read_csv('https://www.dropbox.com/s/ta1ss5vg690v5m9/DOHMH_New_York_City_Restaurant_Inspection_Results.csv?dl=1')\n",
        "df['VIOLATION CODE'].value_counts()\n",
        "df.loc[df['BORO'] == 'Brooklyn', 'VIOLATION CODE'].value_counts().sort_values(ascending=False).head(10)\n",
        "#top 10 violation code given to BK#"
      ],
      "execution_count": null,
      "outputs": [
        {
          "output_type": "execute_result",
          "data": {
            "text/plain": [
              "10F    14653\n",
              "08A    11448\n",
              "04L     8101\n",
              "06D     6448\n",
              "06C     6083\n",
              "10B     5578\n",
              "02G     5576\n",
              "02B     5223\n",
              "04N     4927\n",
              "04M     2296\n",
              "Name: VIOLATION CODE, dtype: int64"
            ]
          },
          "metadata": {
            "tags": []
          },
          "execution_count": 26
        }
      ]
    },
    {
      "cell_type": "code",
      "metadata": {
        "id": "4uTcQmnqwlSk",
        "colab_type": "code",
        "colab": {
          "base_uri": "https://localhost:8080/",
          "height": 204
        },
        "outputId": "6aff747c-0c41-4f22-ff43-1495b67d4b98"
      },
      "source": [
        "import pandas as pd\n",
        "import numpy as np\n",
        "df = pd.read_csv('https://www.dropbox.com/s/ta1ss5vg690v5m9/DOHMH_New_York_City_Restaurant_Inspection_Results.csv?dl=1')\n",
        "df['VIOLATION CODE'].value_counts()\n",
        "df.loc[df['BORO'] == 'Staten Island', 'VIOLATION CODE'].value_counts().sort_values(ascending=False).head(10)\n",
        "#top 10 violation code given to SI#"
      ],
      "execution_count": null,
      "outputs": [
        {
          "output_type": "execute_result",
          "data": {
            "text/plain": [
              "10F    1925\n",
              "08A    1259\n",
              "06D    1161\n",
              "02G     848\n",
              "04L     840\n",
              "10B     835\n",
              "06C     788\n",
              "02B     734\n",
              "04N     629\n",
              "04A     343\n",
              "Name: VIOLATION CODE, dtype: int64"
            ]
          },
          "metadata": {
            "tags": []
          },
          "execution_count": 27
        }
      ]
    },
    {
      "cell_type": "code",
      "metadata": {
        "id": "0QvnLek7wtsy",
        "colab_type": "code",
        "colab": {
          "base_uri": "https://localhost:8080/",
          "height": 204
        },
        "outputId": "abbe8c04-9eee-4f47-96eb-5959f4fe258b"
      },
      "source": [
        "import pandas as pd\n",
        "import numpy as np\n",
        "df = pd.read_csv('https://www.dropbox.com/s/ta1ss5vg690v5m9/DOHMH_New_York_City_Restaurant_Inspection_Results.csv?dl=1')\n",
        "df['VIOLATION CODE'].value_counts()\n",
        "df.loc[df['BORO'] == '0', 'VIOLATION CODE'].value_counts().sort_values(ascending=False).head(10)\n",
        "#top 10 violation code given to unknown boro#"
      ],
      "execution_count": null,
      "outputs": [
        {
          "output_type": "execute_result",
          "data": {
            "text/plain": [
              "10F    33\n",
              "08A    25\n",
              "06D    21\n",
              "02B    18\n",
              "04N    16\n",
              "02G    13\n",
              "04L    12\n",
              "10B    12\n",
              "04H    10\n",
              "06C    10\n",
              "Name: VIOLATION CODE, dtype: int64"
            ]
          },
          "metadata": {
            "tags": []
          },
          "execution_count": 31
        }
      ]
    },
    {
      "cell_type": "code",
      "metadata": {
        "id": "7yRIcGdgydd3",
        "colab_type": "code",
        "colab": {}
      },
      "source": [
        "import pandas as pd\n",
        "import numpy as np\n",
        "df = pd.read_csv('https://www.dropbox.com/s/w3zp2pl8rlx12xe/DOHMH_New_York_City_Restaurant_Inspection_Results%20%283%29.csv?dl=1')\n",
        "df.groupby(['SCORE'])['VIOLATION CODE'].count().sort_values(ascending= False).head(10)\n"
      ],
      "execution_count": null,
      "outputs": []
    },
    {
      "cell_type": "code",
      "metadata": {
        "id": "ix1TV_S69-re",
        "colab_type": "code",
        "colab": {
          "base_uri": "https://localhost:8080/",
          "height": 266
        },
        "outputId": "b3678019-90af-4572-fd7b-bdd5295bb09c"
      },
      "source": [
        "import pandas as pd\n",
        "import numpy as np\n",
        "df = pd.read_csv('https://www.dropbox.com/s/ta1ss5vg690v5m9/DOHMH_New_York_City_Restaurant_Inspection_Results.csv?dl=1')\n",
        "df\n",
        "df.groupby('BORO').mean()[['SCORE']]\n",
        "#average score for each borough#"
      ],
      "execution_count": null,
      "outputs": [
        {
          "output_type": "execute_result",
          "data": {
            "text/html": [
              "<div>\n",
              "<style scoped>\n",
              "    .dataframe tbody tr th:only-of-type {\n",
              "        vertical-align: middle;\n",
              "    }\n",
              "\n",
              "    .dataframe tbody tr th {\n",
              "        vertical-align: top;\n",
              "    }\n",
              "\n",
              "    .dataframe thead th {\n",
              "        text-align: right;\n",
              "    }\n",
              "</style>\n",
              "<table border=\"1\" class=\"dataframe\">\n",
              "  <thead>\n",
              "    <tr style=\"text-align: right;\">\n",
              "      <th></th>\n",
              "      <th>SCORE</th>\n",
              "    </tr>\n",
              "    <tr>\n",
              "      <th>BORO</th>\n",
              "      <th></th>\n",
              "    </tr>\n",
              "  </thead>\n",
              "  <tbody>\n",
              "    <tr>\n",
              "      <th>0</th>\n",
              "      <td>21.871681</td>\n",
              "    </tr>\n",
              "    <tr>\n",
              "      <th>Bronx</th>\n",
              "      <td>19.916920</td>\n",
              "    </tr>\n",
              "    <tr>\n",
              "      <th>Brooklyn</th>\n",
              "      <td>20.494563</td>\n",
              "    </tr>\n",
              "    <tr>\n",
              "      <th>Manhattan</th>\n",
              "      <td>20.365197</td>\n",
              "    </tr>\n",
              "    <tr>\n",
              "      <th>Queens</th>\n",
              "      <td>20.172182</td>\n",
              "    </tr>\n",
              "    <tr>\n",
              "      <th>Staten Island</th>\n",
              "      <td>19.244919</td>\n",
              "    </tr>\n",
              "  </tbody>\n",
              "</table>\n",
              "</div>"
            ],
            "text/plain": [
              "                   SCORE\n",
              "BORO                    \n",
              "0              21.871681\n",
              "Bronx          19.916920\n",
              "Brooklyn       20.494563\n",
              "Manhattan      20.365197\n",
              "Queens         20.172182\n",
              "Staten Island  19.244919"
            ]
          },
          "metadata": {
            "tags": []
          },
          "execution_count": 2
        }
      ]
    },
    {
      "cell_type": "code",
      "metadata": {
        "id": "V3xxik1O-ZiO",
        "colab_type": "code",
        "colab": {
          "base_uri": "https://localhost:8080/",
          "height": 221
        },
        "outputId": "3df77bae-c100-45d7-dbf5-7ce331351f67"
      },
      "source": [
        "import pandas as pd\n",
        "import numpy as np\n",
        "df = pd.read_csv('https://www.dropbox.com/s/ta1ss5vg690v5m9/DOHMH_New_York_City_Restaurant_Inspection_Results.csv?dl=1')\n",
        "df\n",
        "df['VIOLATION CODE'].unique()\n",
        "#how many violation code#"
      ],
      "execution_count": null,
      "outputs": [
        {
          "output_type": "execute_result",
          "data": {
            "text/plain": [
              "array([nan, '04F', '10F', '06C', '02B', '05F', '08A', '06D', '10B', '04H',\n",
              "       '04L', '02G', '06E', '06F', '04N', '10E', '10I', '04M', '04C',\n",
              "       '20F', '04K', '02H', '09B', '05D', '16B', '05A', '04D', '15F6',\n",
              "       '04A', '06A', '08C', '02I', '09C', '05E', '04J', '20A', '10A',\n",
              "       '22G', '22C', '15E2', '10J', '10H', '04O', '22E', '06B', '10D',\n",
              "       '03A', '04E', '05H', '10C', '08B', '02C', '15L', '03G', '22F',\n",
              "       '20D', '22A', '20E', '06G', '18D', '16C', '09A', '15F1', '16A',\n",
              "       '18G', '16E', '15F8', '05C', '15F7', '16D', '02A', '15I', '07A',\n",
              "       '03B', '03C', '02F', '05B', '15E3', '03D', '15A1', '03E', '02D',\n",
              "       '02J', '04B', '15J', '03F', '06H', '15F2', '10G', '18C', '06I',\n",
              "       '18F', '22B', '15S', '18B', '02E', '15T', '04I', '17A1', '04G',\n",
              "       '15G7', '15K', '17A3', '19A3', '19A1'], dtype=object)"
            ]
          },
          "metadata": {
            "tags": []
          },
          "execution_count": 3
        }
      ]
    },
    {
      "cell_type": "code",
      "metadata": {
        "id": "WDpSE3aK-RYn",
        "colab_type": "code",
        "colab": {
          "base_uri": "https://localhost:8080/",
          "height": 510
        },
        "outputId": "d872b1f7-c83f-4e9d-e596-0e6d6fa6dc33"
      },
      "source": [
        "import pandas as pd\n",
        "import numpy as np\n",
        "import matplotlib.pyplot as plt\n",
        "df = pd.read_csv('https://www.dropbox.com/s/w3zp2pl8rlx12xe/DOHMH_New_York_City_Restaurant_Inspection_Results%20%283%29.csv?dl=1')\n",
        "df\n",
        "df.GRADE.fillna('No Grade', inplace=True)\n",
        "df[\"GRADE DATE\"].fillna('No Grade Date', inplace=True)\n",
        "df[\"VIOLATION CODE\" ].fillna('NO VIOLATION CODE' , inplace=True)\n",
        "df[\"VIOLATION DESCRIPTION\"].fillna('NO VIOLATION DESCRIPTION', inplace=True)\n",
        "df[\"INSPECTION TYPE\"].fillna('NO INSPECTION TYPE' , inplace=True)\n",
        "df[\"SCORE\"].fillna('NO SCORE' , inplace=True)\n",
        "df[\"BORO\"].fillna('NO BORO' , inplace=True)\n",
        "QN= df.loc[df['BORO'] == 'Queens', 'VIOLATION CODE'].value_counts().sort_values(ascending=False).head(10)\n",
        "print(QN)\n",
        "\n",
        "plt.title('QUEENS Top 10 Violations')\n",
        "plt.ylabel('Total Count of Violations')\n",
        "plt.xlabel(\"Type of Violations Codes\")\n",
        "\n",
        "QN.plot(kind=\"bar\", x=\"BORO\", y='VIOLATION CODE') "
      ],
      "execution_count": null,
      "outputs": [
        {
          "output_type": "stream",
          "text": [
            "10F    12995\n",
            "08A     9681\n",
            "04L     6800\n",
            "06D     5913\n",
            "06C     5736\n",
            "02G     4971\n",
            "10B     4897\n",
            "02B     4824\n",
            "04N     4335\n",
            "04M     2168\n",
            "Name: VIOLATION CODE, dtype: int64\n"
          ],
          "name": "stdout"
        },
        {
          "output_type": "execute_result",
          "data": {
            "text/plain": [
              "<matplotlib.axes._subplots.AxesSubplot at 0x7f1d45cd2710>"
            ]
          },
          "metadata": {
            "tags": []
          },
          "execution_count": 6
        },
        {
          "output_type": "display_data",
          "data": {
            "image/png": "[encoded data removed]",
            "text/plain": [
              "<Figure size 432x288 with 1 Axes>"
            ]
          },
          "metadata": {
            "tags": [],
            "needs_background": "light"
          }
        }
      ]
    },
    {
      "cell_type": "code",
      "metadata": {
        "id": "OMdgNQDu-zJ8",
        "colab_type": "code",
        "colab": {
          "base_uri": "https://localhost:8080/",
          "height": 510
        },
        "outputId": "5a4d6cff-a74b-4d4d-9f67-3a30894e68af"
      },
      "source": [
        "import pandas as pd\n",
        "import numpy as np\n",
        "import matplotlib.pyplot as plt\n",
        "df = pd.read_csv('https://www.dropbox.com/s/ta1ss5vg690v5m9/DOHMH_New_York_City_Restaurant_Inspection_Results.csv?dl=1')\n",
        "df.GRADE.fillna('No Grade', inplace=True)\n",
        "df[\"GRADE DATE\"].fillna('No Grade Date', inplace=True)\n",
        "df[\"VIOLATION CODE\" ].fillna('NO VIOLATION CODE' , inplace=True)\n",
        "df[\"VIOLATION DESCRIPTION\"].fillna('NO VIOLATION DESCRIPTION', inplace=True)\n",
        "df[\"INSPECTION TYPE\"].fillna('NO INSPECTION TYPE' , inplace=True)\n",
        "df[\"SCORE\"].fillna('NO SCORE' , inplace=True)\n",
        "df[\"BORO\"].fillna('NO BORO' , inplace=True)\n",
        "BX= df.loc[df['BORO'] == 'Bronx', 'VIOLATION CODE'].value_counts().sort_values(ascending=False).head(10)\n",
        "print(BX)\n",
        "\n",
        "\n",
        "plt.title('BRONX Top 10 Violation')\n",
        "plt.ylabel('Total Count of Violations')\n",
        "plt.xlabel(\"Type of Violations Codes\")\n",
        "\n",
        "BX.plot(kind=\"bar\", x=\"BORO\", y='VIOLATION CODE') "
      ],
      "execution_count": null,
      "outputs": [
        {
          "output_type": "stream",
          "text": [
            "10F    5133\n",
            "08A    4638\n",
            "04L    3064\n",
            "02B    2276\n",
            "10B    2150\n",
            "04N    2105\n",
            "06D    1963\n",
            "06C    1917\n",
            "02G    1854\n",
            "04M    1036\n",
            "Name: VIOLATION CODE, dtype: int64\n"
          ],
          "name": "stdout"
        },
        {
          "output_type": "execute_result",
          "data": {
            "text/plain": [
              "<matplotlib.axes._subplots.AxesSubplot at 0x7fb6c7761710>"
            ]
          },
          "metadata": {
            "tags": []
          },
          "execution_count": 49
        },
        {
          "output_type": "display_data",
          "data": {
            "image/png": "[encoded data removed]",
            "text/plain": [
              "<Figure size 432x288 with 1 Axes>"
            ]
          },
          "metadata": {
            "tags": [],
            "needs_background": "light"
          }
        }
      ]
    },
    {
      "cell_type": "code",
      "metadata": {
        "id": "KuBY9PuBACqQ",
        "colab_type": "code",
        "colab": {
          "base_uri": "https://localhost:8080/",
          "height": 510
        },
        "outputId": "5991f2b2-ed71-4864-8191-2901d4e937c2"
      },
      "source": [
        "import pandas as pd\n",
        "import numpy as np\n",
        "import matplotlib.pyplot as plt\n",
        "df = pd.read_csv('https://www.dropbox.com/s/w3zp2pl8rlx12xe/DOHMH_New_York_City_Restaurant_Inspection_Results%20%283%29.csv?dl=1')\n",
        "df.GRADE.fillna('No Grade', inplace=True)\n",
        "df[\"GRADE DATE\"].fillna('No Grade Date', inplace=True)\n",
        "df[\"VIOLATION CODE\" ].fillna('NO VIOLATION CODE' , inplace=True)\n",
        "df[\"VIOLATION DESCRIPTION\"].fillna('NO VIOLATION DESCRIPTION', inplace=True)\n",
        "df[\"INSPECTION TYPE\"].fillna('NO INSPECTION TYPE' , inplace=True)\n",
        "df[\"SCORE\"].fillna('NO SCORE' , inplace=True)\n",
        "df[\"BORO\"].fillna('NO BORO' , inplace=True)\n",
        "BK= df.loc[df['BORO'] == 'Brooklyn', 'VIOLATION CODE'].value_counts().sort_values(ascending=False).head(10)\n",
        "print(BK)\n",
        "\n",
        "\n",
        "plt.title('BROOKLYN Top 10 Violations')\n",
        "plt.ylabel('Total Count of Violations')\n",
        "plt.xlabel(\"Type of Violations Codes\")\n",
        "\n",
        "BX.plot(kind=\"bar\", x=\"BORO\", y='VIOLATION CODE') "
      ],
      "execution_count": null,
      "outputs": [
        {
          "output_type": "stream",
          "text": [
            "10F    14653\n",
            "08A    11448\n",
            "04L     8101\n",
            "06D     6448\n",
            "06C     6083\n",
            "10B     5578\n",
            "02G     5576\n",
            "02B     5223\n",
            "04N     4927\n",
            "04M     2296\n",
            "Name: VIOLATION CODE, dtype: int64\n"
          ],
          "name": "stdout"
        },
        {
          "output_type": "execute_result",
          "data": {
            "text/plain": [
              "<matplotlib.axes._subplots.AxesSubplot at 0x7f1d474c5080>"
            ]
          },
          "metadata": {
            "tags": []
          },
          "execution_count": 11
        },
        {
          "output_type": "display_data",
          "data": {
            "image/png": "[encoded data removed]",
            "text/plain": [
              "<Figure size 432x288 with 1 Axes>"
            ]
          },
          "metadata": {
            "tags": [],
            "needs_background": "light"
          }
        }
      ]
    },
    {
      "cell_type": "code",
      "metadata": {
        "id": "2L1juSmxA1dy",
        "colab_type": "code",
        "colab": {
          "base_uri": "https://localhost:8080/",
          "height": 510
        },
        "outputId": "cd292172-27c3-4646-8964-50cf984ab69c"
      },
      "source": [
        "import pandas as pd\n",
        "import numpy as np\n",
        "import matplotlib.pyplot as plt\n",
        "df = pd.read_csv('https://www.dropbox.com/s/w3zp2pl8rlx12xe/DOHMH_New_York_City_Restaurant_Inspection_Results%20%283%29.csv?dl=1')\n",
        "df\n",
        "df.GRADE.fillna('No Grade', inplace=True)\n",
        "df[\"GRADE DATE\"].fillna('No Grade Date', inplace=True)\n",
        "df[\"VIOLATION CODE\" ].fillna('NO VIOLATION CODE' , inplace=True)\n",
        "df[\"VIOLATION DESCRIPTION\"].fillna('NO VIOLATION DESCRIPTION', inplace=True)\n",
        "df[\"INSPECTION TYPE\"].fillna('NO INSPECTION TYPE' , inplace=True)\n",
        "df[\"SCORE\"].fillna('NO SCORE' , inplace=True)\n",
        "df[\"BORO\"].fillna('NO BORO' , inplace=True)\n",
        "MN= df.loc[df['BORO'] == 'Manhattan', 'VIOLATION CODE'].value_counts().sort_values(ascending=False).head(10)\n",
        "print(MN)\n",
        "\n",
        "\n",
        "plt.title('MANHATTAN Top 10 Violations')\n",
        "plt.ylabel('Total Count of Violations')\n",
        "plt.xlabel(\"Type of Violations Codes\")\n",
        "\n",
        "MN.plot(kind=\"bar\", x=\"BORO\", y='VIOLATION CODE') "
      ],
      "execution_count": null,
      "outputs": [
        {
          "output_type": "stream",
          "text": [
            "10F    22397\n",
            "08A    17267\n",
            "06D    11878\n",
            "04L    10966\n",
            "10B     9881\n",
            "06C     9669\n",
            "02G     9661\n",
            "04N     8932\n",
            "02B     7351\n",
            "04H     3659\n",
            "Name: VIOLATION CODE, dtype: int64\n"
          ],
          "name": "stdout"
        },
        {
          "output_type": "execute_result",
          "data": {
            "text/plain": [
              "<matplotlib.axes._subplots.AxesSubplot at 0x7f1d43e1d8d0>"
            ]
          },
          "metadata": {
            "tags": []
          },
          "execution_count": 7
        },
        {
          "output_type": "display_data",
          "data": {
            "image/png": "[encoded data removed]",
            "text/plain": [
              "<Figure size 432x288 with 1 Axes>"
            ]
          },
          "metadata": {
            "tags": [],
            "needs_background": "light"
          }
        }
      ]
    },
    {
      "cell_type": "code",
      "metadata": {
        "id": "lSObqB0yBZ9m",
        "colab_type": "code",
        "colab": {
          "base_uri": "https://localhost:8080/",
          "height": 510
        },
        "outputId": "fa32fb3e-b5d1-4f8a-838a-95ea19f34b37"
      },
      "source": [
        "import pandas as pd\n",
        "import numpy as np\n",
        "import matplotlib.pyplot as plt\n",
        "df = pd.read_csv('https://www.dropbox.com/s/w3zp2pl8rlx12xe/DOHMH_New_York_City_Restaurant_Inspection_Results%20%283%29.csv?dl=1')\n",
        "df\n",
        "df.GRADE.fillna('No Grade', inplace=True)\n",
        "df[\"GRADE DATE\"].fillna('No Grade Date', inplace=True)\n",
        "df[\"VIOLATION CODE\" ].fillna('NO VIOLATION CODE' , inplace=True)\n",
        "df[\"VIOLATION DESCRIPTION\"].fillna('NO VIOLATION DESCRIPTION', inplace=True)\n",
        "df[\"INSPECTION TYPE\"].fillna('NO INSPECTION TYPE' , inplace=True)\n",
        "df[\"SCORE\"].fillna('NO SCORE' , inplace=True)\n",
        "df[\"BORO\"].fillna('NO BORO' , inplace=True)\n",
        "BX= df.loc[df['BORO'] == 'Staten Island', 'VIOLATION CODE'].value_counts().sort_values(ascending=False).head(10)\n",
        "print(BX)\n",
        "\n",
        "\n",
        "plt.title('Staten Island Top 10 Violations')\n",
        "plt.ylabel('Total Count of Violations')\n",
        "plt.xlabel(\"Type of Violations Codes\")\n",
        "\n",
        "BX.plot(kind=\"bar\", x=\"BORO\", y='VIOLATION CODE') "
      ],
      "execution_count": null,
      "outputs": [
        {
          "output_type": "stream",
          "text": [
            "10F    1925\n",
            "08A    1259\n",
            "06D    1161\n",
            "02G     848\n",
            "04L     840\n",
            "10B     835\n",
            "06C     788\n",
            "02B     734\n",
            "04N     629\n",
            "04A     343\n",
            "Name: VIOLATION CODE, dtype: int64\n"
          ],
          "name": "stdout"
        },
        {
          "output_type": "execute_result",
          "data": {
            "text/plain": [
              "<matplotlib.axes._subplots.AxesSubplot at 0x7f1d3898ac18>"
            ]
          },
          "metadata": {
            "tags": []
          },
          "execution_count": 10
        },
        {
          "output_type": "display_data",
          "data": {
            "image/png": "[encoded data removed]",
            "text/plain": [
              "<Figure size 432x288 with 1 Axes>"
            ]
          },
          "metadata": {
            "tags": [],
            "needs_background": "light"
          }
        }
      ]
    },
    {
      "cell_type": "code",
      "metadata": {
        "id": "dqCoW4DxCDNc",
        "colab_type": "code",
        "colab": {
          "base_uri": "https://localhost:8080/",
          "height": 510
        },
        "outputId": "df6b348e-f34e-45cb-db7a-2d71415c29cf"
      },
      "source": [
        "import pandas as pd\n",
        "import numpy as np\n",
        "import matplotlib.pyplot as plt\n",
        "df = pd.read_csv('https://www.dropbox.com/s/w3zp2pl8rlx12xe/DOHMH_New_York_City_Restaurant_Inspection_Results%20%283%29.csv?dl=1')\n",
        "df.GRADE.fillna('No Grade', inplace=True)\n",
        "df[\"GRADE DATE\"].fillna('No Grade Date', inplace=True)\n",
        "df[\"VIOLATION CODE\" ].fillna('NO VIOLATION CODE' , inplace=True)\n",
        "df[\"VIOLATION DESCRIPTION\"].fillna('NO VIOLATION DESCRIPTION', inplace=True)\n",
        "df[\"INSPECTION TYPE\"].fillna('NO INSPECTION TYPE' , inplace=True)\n",
        "df[\"SCORE\"].fillna('NO SCORE' , inplace=True)\n",
        "df[\"BORO\"].fillna('NO BORO' , inplace=True)\n",
        "NB= df.loc[df['BORO'] == '0', 'VIOLATION CODE'].value_counts().sort_values(ascending=False).head(10)\n",
        "print(NB)\n",
        "\n",
        "\n",
        "plt.title('No Borough Top 10 Violations')\n",
        "plt.ylabel('Total Count of Violations')\n",
        "plt.xlabel(\"Type of Violations Codes\")\n",
        "\n",
        "NB.plot(kind=\"bar\", x=\"BORO\", y='VIOLATION CODE') "
      ],
      "execution_count": null,
      "outputs": [
        {
          "output_type": "stream",
          "text": [
            "10F    33\n",
            "08A    25\n",
            "06D    21\n",
            "02B    18\n",
            "04N    16\n",
            "02G    13\n",
            "04L    12\n",
            "10B    12\n",
            "04H    10\n",
            "06C    10\n",
            "Name: VIOLATION CODE, dtype: int64\n"
          ],
          "name": "stdout"
        },
        {
          "output_type": "execute_result",
          "data": {
            "text/plain": [
              "<matplotlib.axes._subplots.AxesSubplot at 0x7f1d3617ab70>"
            ]
          },
          "metadata": {
            "tags": []
          },
          "execution_count": 12
        },
        {
          "output_type": "display_data",
          "data": {
            "image/png": "[encoded data removed]",
            "text/plain": [
              "<Figure size 432x288 with 1 Axes>"
            ]
          },
          "metadata": {
            "tags": [],
            "needs_background": "light"
          }
        }
      ]
    },
    {
      "cell_type": "code",
      "metadata": {
        "id": "OP4DWrLC5aHo",
        "colab_type": "code",
        "colab": {
          "base_uri": "https://localhost:8080/",
          "height": 221
        },
        "outputId": "1cf5f4e1-aed1-414a-84c2-7e76071ab63d"
      },
      "source": [
        "import pandas as pd\n",
        "import numpy as np\n",
        "df = pd.read_csv('https://www.dropbox.com/s/w3zp2pl8rlx12xe/DOHMH_New_York_City_Restaurant_Inspection_Results%20%283%29.csv?dl=1')\n",
        "df['year'] = pd.DatetimeIndex(df['INSPECTION DATE']).year\n",
        "df = df[df['year'] == 2019]\n",
        "df.groupby(['VIOLATION CODE'])['VIOLATION DESCRIPTION'].count().sort_values(ascending= False).head(10)\n",
        "#top 10 violation code given to NYC by year#"
      ],
      "execution_count": null,
      "outputs": [
        {
          "output_type": "execute_result",
          "data": {
            "text/plain": [
              "VIOLATION CODE\n",
              "10F    21107\n",
              "08A    16567\n",
              "04L    10905\n",
              "06D    10084\n",
              "02G     8659\n",
              "10B     8631\n",
              "06C     8489\n",
              "04N     7600\n",
              "02B     7194\n",
              "04M     3597\n",
              "Name: VIOLATION DESCRIPTION, dtype: int64"
            ]
          },
          "metadata": {
            "tags": []
          },
          "execution_count": 3
        }
      ]
    },
    {
      "cell_type": "code",
      "metadata": {
        "id": "CQWYDYLM5kWI",
        "colab_type": "code",
        "colab": {
          "base_uri": "https://localhost:8080/",
          "height": 221
        },
        "outputId": "e75d37da-b19c-43b8-af65-4a0e53b91890"
      },
      "source": [
        "import pandas as pd\n",
        "import numpy as np\n",
        "df = pd.read_csv('https://www.dropbox.com/s/w3zp2pl8rlx12xe/DOHMH_New_York_City_Restaurant_Inspection_Results%20%283%29.csv?dl=1')\n",
        "df['year'] = pd.DatetimeIndex(df['INSPECTION DATE']).year\n",
        "df = df[df['year'] == 2018]\n",
        "df.groupby(['VIOLATION CODE'])['VIOLATION DESCRIPTION'].count().sort_values(ascending= False).head(10)\n",
        "#top 10 violation code given to NYC by year#"
      ],
      "execution_count": null,
      "outputs": [
        {
          "output_type": "execute_result",
          "data": {
            "text/plain": [
              "VIOLATION CODE\n",
              "10F    17262\n",
              "08A    13554\n",
              "04L     9473\n",
              "06D     8171\n",
              "06C     6971\n",
              "02G     6941\n",
              "10B     6911\n",
              "02B     6585\n",
              "04N     6366\n",
              "04H     2675\n",
              "Name: VIOLATION DESCRIPTION, dtype: int64"
            ]
          },
          "metadata": {
            "tags": []
          },
          "execution_count": 4
        }
      ]
    },
    {
      "cell_type": "code",
      "metadata": {
        "id": "xlO8y19c6bOt",
        "colab_type": "code",
        "colab": {
          "base_uri": "https://localhost:8080/",
          "height": 221
        },
        "outputId": "3d46ddfb-fee6-4784-9028-64abf3fc6033"
      },
      "source": [
        "import pandas as pd\n",
        "import numpy as np\n",
        "df = pd.read_csv('https://www.dropbox.com/s/w3zp2pl8rlx12xe/DOHMH_New_York_City_Restaurant_Inspection_Results%20%283%29.csv?dl=1')\n",
        "df['year'] = pd.DatetimeIndex(df['INSPECTION DATE']).year\n",
        "df = df[df['year'] == 2017]\n",
        "df.groupby(['VIOLATION CODE'])['VIOLATION DESCRIPTION'].count().sort_values(ascending= False).head(10)\n",
        "#top 10 violation code given to NYC by year#"
      ],
      "execution_count": null,
      "outputs": [
        {
          "output_type": "execute_result",
          "data": {
            "text/plain": [
              "VIOLATION CODE\n",
              "10F    11392\n",
              "08A     8748\n",
              "04L     5760\n",
              "06D     5505\n",
              "06C     5445\n",
              "10B     4991\n",
              "04N     4785\n",
              "02G     4393\n",
              "02B     4112\n",
              "04H     1686\n",
              "Name: VIOLATION DESCRIPTION, dtype: int64"
            ]
          },
          "metadata": {
            "tags": []
          },
          "execution_count": 6
        }
      ]
    },
    {
      "cell_type": "code",
      "metadata": {
        "id": "6aZ32GiN6ljE",
        "colab_type": "code",
        "colab": {
          "base_uri": "https://localhost:8080/",
          "height": 221
        },
        "outputId": "fb3722ff-855c-44f7-b4fa-60d6e0d31769"
      },
      "source": [
        "import pandas as pd\n",
        "import numpy as np\n",
        "df = pd.read_csv('https://www.dropbox.com/s/w3zp2pl8rlx12xe/DOHMH_New_York_City_Restaurant_Inspection_Results%20%283%29.csv?dl=1')\n",
        "df['year'] = pd.DatetimeIndex(df['INSPECTION DATE']).year\n",
        "df = df[df['year'] == 2020]\n",
        "df.groupby(['VIOLATION CODE'])['VIOLATION DESCRIPTION'].count().sort_values(ascending= False).head(10)\n",
        "#top 10 violation code given to NYC by year#"
      ],
      "execution_count": null,
      "outputs": [
        {
          "output_type": "execute_result",
          "data": {
            "text/plain": [
              "VIOLATION CODE\n",
              "10F    4894\n",
              "08A    3476\n",
              "04L    2496\n",
              "06D    2325\n",
              "06C    1978\n",
              "02G    1858\n",
              "10B    1780\n",
              "02B    1728\n",
              "04N     989\n",
              "04A     751\n",
              "Name: VIOLATION DESCRIPTION, dtype: int64"
            ]
          },
          "metadata": {
            "tags": []
          },
          "execution_count": 7
        }
      ]
    },
    {
      "cell_type": "code",
      "metadata": {
        "id": "VqQg99Ev7qoK",
        "colab_type": "code",
        "colab": {
          "base_uri": "https://localhost:8080/",
          "height": 330
        },
        "outputId": "b9675c3d-9297-4fb8-f0a2-fa2d87b8297a"
      },
      "source": [
        "import pandas as pd\n",
        "import numpy as np\n",
        "import matplotlib.pyplot as plt\n",
        "%matplotlib inline\n",
        "import seaborn as sns\n",
        "sns.set()\n",
        "df = pd.read_csv('https://www.dropbox.com/s/w3zp2pl8rlx12xe/DOHMH_New_York_City_Restaurant_Inspection_Results%20%283%29.csv?dl=1')\n",
        "df['year'] = pd.DatetimeIndex(df['INSPECTION DATE']).year\n",
        "df = df[df['year'] == 2020]\n",
        "df.groupby(['VIOLATION CODE'])['VIOLATION DESCRIPTION'].count().sort_values(ascending= False).head(10).plot(kind='bar')\n",
        "\n",
        "\n",
        "\n",
        "\n",
        "\n",
        "plt.title ('Top 10 Violations for NYC Restuarants for 2020')\n",
        "plt.ylabel('Number of Violations Issued')\n",
        "plt.xlabel('Violation Codes')\n",
        "plt.show"
      ],
      "execution_count": null,
      "outputs": [
        {
          "output_type": "execute_result",
          "data": {
            "text/plain": [
              "<function matplotlib.pyplot.show>"
            ]
          },
          "metadata": {
            "tags": []
          },
          "execution_count": 10
        },
        {
          "output_type": "display_data",
          "data": {
            "image/png": "[encoded data removed]",
            "text/plain": [
              "<Figure size 432x288 with 1 Axes>"
            ]
          },
          "metadata": {
            "tags": []
          }
        }
      ]
    }
  ]
}